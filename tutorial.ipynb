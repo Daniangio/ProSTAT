{
 "cells": [
  {
   "cell_type": "code",
   "execution_count": null,
   "metadata": {},
   "outputs": [],
   "source": [
    "%reload_ext autoreload\n",
    "%autoreload 2"
   ]
  },
  {
   "cell_type": "code",
   "execution_count": null,
   "metadata": {},
   "outputs": [],
   "source": [
    "import yaml\n",
    "from pathlib import Path\n",
    "\n",
    "import torch\n",
    "import numpy as np\n",
    "\n",
    "from prostat.nn.autoencoder import AutoEncoder\n",
    "from prostat.utils.dataset import load_dataset\n",
    "from prostat.utils.plotting import plot, plot_dihedral_distribution\n",
    "from prostat.trainer.train import train_autoencoder\n",
    "from prostat.trainer.inference import test_autoencoder\n",
    "\n",
    "torch.set_default_dtype(torch.double)"
   ]
  },
  {
   "cell_type": "code",
   "execution_count": null,
   "metadata": {},
   "outputs": [],
   "source": [
    "config_file = \"config/chignolin.yaml\"\n",
    "conf = yaml.safe_load(Path(config_file).read_text())\n",
    "\n",
    "dataset = load_dataset(conf)"
   ]
  },
  {
   "cell_type": "code",
   "execution_count": null,
   "metadata": {},
   "outputs": [],
   "source": [
    "#########################\n",
    "### Build Autoencoder ###\n",
    "#########################\n",
    "locality = 2\n",
    "desired_stride = 1\n",
    "path = f'{conf[\"name\"]}_{locality}_{desired_stride}.pth'\n",
    "\n",
    "model = AutoEncoder(dataset['R'].shape[-2], locality=locality, desired_stride=desired_stride).to(conf['device'])\n",
    "try:\n",
    "    model.load_state_dict(torch.load(path))\n",
    "    print(f'Model weights file {path} loaded!')\n",
    "except:\n",
    "    print(f'Model weights file {path} is missing')\n",
    "#########################\n",
    "#########################\n",
    "#########################"
   ]
  },
  {
   "cell_type": "code",
   "execution_count": null,
   "metadata": {},
   "outputs": [],
   "source": [
    "train_autoencoder(model, dataset, conf)"
   ]
  },
  {
   "cell_type": "code",
   "execution_count": null,
   "metadata": {},
   "outputs": [],
   "source": [
    "torch.save(model.state_dict(), path)"
   ]
  },
  {
   "cell_type": "code",
   "execution_count": null,
   "metadata": {},
   "outputs": [],
   "source": [
    "pos_recon, minimized_pos_recon, pos_beads, v1, v2, v12 = test_autoencoder(model, dataset, conf)"
   ]
  },
  {
   "cell_type": "code",
   "execution_count": null,
   "metadata": {},
   "outputs": [],
   "source": [
    "nth = 0\n",
    "pos1 = dataset['pos_test'][nth]\n",
    "pos2 = minimized_pos_recon[nth].cpu().detach().numpy()\n",
    "\n",
    "plot(0, pos1, pos2, pos_beads.reshape(pos_beads.shape[0], -1), v1.reshape(v1.shape[0], -1), v2.reshape(v2.shape[0], -1), dataset, bond_idcs=dataset['bond_idcs'])"
   ]
  },
  {
   "cell_type": "code",
   "execution_count": null,
   "metadata": {},
   "outputs": [],
   "source": [
    "##################################\n",
    "### Plot Dihedral Distribution ###\n",
    "##################################\n",
    "plot_dihedral_distribution(dataset, pos_recon, minimized_pos_recon)\n",
    "##################################\n",
    "##################################\n",
    "##################################"
   ]
  },
  {
   "cell_type": "code",
   "execution_count": null,
   "metadata": {},
   "outputs": [],
   "source": []
  }
 ],
 "metadata": {
  "kernelspec": {
   "display_name": "prostat",
   "language": "python",
   "name": "python3"
  },
  "language_info": {
   "codemirror_mode": {
    "name": "ipython",
    "version": 3
   },
   "file_extension": ".py",
   "mimetype": "text/x-python",
   "name": "python",
   "nbconvert_exporter": "python",
   "pygments_lexer": "ipython3",
   "version": "3.10.8"
  },
  "orig_nbformat": 4,
  "vscode": {
   "interpreter": {
    "hash": "e83e13eb7a5ae82a8aeb1528983d49f46d4932259c63802e14669f17a5fcf04a"
   }
  }
 },
 "nbformat": 4,
 "nbformat_minor": 2
}
