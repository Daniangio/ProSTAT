{
 "cells": [
  {
   "cell_type": "code",
   "execution_count": 1,
   "metadata": {},
   "outputs": [],
   "source": [
    "%reload_ext autoreload\n",
    "%autoreload 2"
   ]
  },
  {
   "cell_type": "code",
   "execution_count": 2,
   "metadata": {},
   "outputs": [],
   "source": [
    "from martini._RBmapping import RBMartiniMapping\n",
    "from prostat.nn.martinibackmapper import MartiniBackmapper"
   ]
  },
  {
   "cell_type": "code",
   "execution_count": 3,
   "metadata": {},
   "outputs": [],
   "source": [
    "### Either give pdb ###\n",
    "pdb_filename = \"chignolin.pdb\"\n",
    "### Or topology + traj ###\n",
    "top_filename = \"chignolin.psf\"\n",
    "traj_filename = \"chignolin.xtc\""
   ]
  },
  {
   "cell_type": "code",
   "execution_count": 4,
   "metadata": {},
   "outputs": [],
   "source": [
    "mapping = RBMartiniMapping(\"mapping\")\n",
    "mapping.map(top_filename, traj_filename)"
   ]
  },
  {
   "cell_type": "code",
   "execution_count": 5,
   "metadata": {},
   "outputs": [],
   "source": [
    "import yaml\n",
    "from pathlib import Path\n",
    "\n",
    "import torch\n",
    "import numpy as np\n",
    "\n",
    "from prostat.nn.martinibackmapper import MartiniBackmapper"
   ]
  },
  {
   "cell_type": "code",
   "execution_count": 6,
   "metadata": {},
   "outputs": [],
   "source": [
    "################################\n",
    "### Build Martini Backmapper ###\n",
    "################################\n",
    "\n",
    "conf = {\n",
    "    'device': 'cuda:0'\n",
    "}\n",
    "# path = f'{conf[\"name\"]}_{locality}_{desired_stride}.pth'\n",
    "\n",
    "model = MartiniBackmapper(\n",
    "    n_atoms = mapping.n_atoms,\n",
    "    n_beads = mapping.n_beads,\n",
    "    bead_size = mapping.bead_size,\n",
    "    bead2atom_idcs_mask=mapping.bead2atom_idcs_mask,\n",
    "    bead2atom_idcs_generator=mapping.bead2atom_idcs_generator,\n",
    ").to(conf[\"device\"])\n",
    "# try:\n",
    "#     # model.load_state_dict(torch.load(path))\n",
    "#     print(f'Model weights file {path} loaded!')\n",
    "# except:\n",
    "#     print(f'Model weights file {path} is missing')\n",
    "#########################\n",
    "#########################\n",
    "#########################"
   ]
  },
  {
   "cell_type": "code",
   "execution_count": 7,
   "metadata": {},
   "outputs": [],
   "source": [
    "P = torch.from_numpy(mapping._bead_positions).float().to(conf[\"device\"])\n",
    "p1 = torch.from_numpy(mapping._bead_v1).float().to(conf[\"device\"])\n",
    "p2 = torch.from_numpy(mapping._bead_v2).float().to(conf[\"device\"])\n",
    "\n",
    "x, rot_axes = model(\n",
    "    P=P,\n",
    "    p1=p1,\n",
    "    p2=p2,\n",
    ")"
   ]
  },
  {
   "cell_type": "code",
   "execution_count": null,
   "metadata": {},
   "outputs": [],
   "source": [
    "config_file = \"config/chignolin.yaml\"\n",
    "conf = yaml.safe_load(Path(config_file).read_text())\n",
    "\n",
    "dataset = load_dataset(conf)"
   ]
  },
  {
   "cell_type": "code",
   "execution_count": null,
   "metadata": {},
   "outputs": [],
   "source": [
    "dataset['bead_types']"
   ]
  },
  {
   "cell_type": "code",
   "execution_count": null,
   "metadata": {},
   "outputs": [],
   "source": [
    "train_autoencoder(model, dataset, conf)"
   ]
  },
  {
   "cell_type": "code",
   "execution_count": null,
   "metadata": {},
   "outputs": [],
   "source": [
    "pos_train = torch.from_numpy(dataset['pos_test']).double().to(conf['device'])\n",
    "pos_recon, pos_beads, p1, p2, st, rot_axes, normalized_weights, contribution_beads = model(pos_train)"
   ]
  },
  {
   "cell_type": "code",
   "execution_count": null,
   "metadata": {},
   "outputs": [],
   "source": [
    "torch.save(model.state_dict(), path)"
   ]
  },
  {
   "cell_type": "code",
   "execution_count": null,
   "metadata": {},
   "outputs": [],
   "source": [
    "pos_recon, minimized_pos_recon, pos_beads, p1, p2, p12 = test_autoencoder(model, dataset, conf)"
   ]
  },
  {
   "cell_type": "code",
   "execution_count": null,
   "metadata": {},
   "outputs": [],
   "source": [
    "nth = 100\n",
    "pos1 = dataset['pos_test'][nth]\n",
    "pos2 = pos_recon[nth].cpu().detach().numpy()\n",
    "\n",
    "plot(\n",
    "    nth,\n",
    "    pos1,\n",
    "    pos2,\n",
    "    pos_beads,\n",
    "    p1,\n",
    "    p2,\n",
    "    dataset,\n",
    "    model.locality,\n",
    "    model.desired_stride,\n",
    "    model.encoder_lin.weights[..., 0],\n",
    "    bond_idcs=dataset['bond_idcs']\n",
    ")"
   ]
  },
  {
   "cell_type": "code",
   "execution_count": null,
   "metadata": {},
   "outputs": [],
   "source": [
    "##################################\n",
    "### Plot Dihedral Distribution ###\n",
    "##################################\n",
    "plot_dihedral_distribution(dataset, pos_recon, minimized_pos_recon)\n",
    "##################################\n",
    "##################################\n",
    "##################################"
   ]
  },
  {
   "cell_type": "code",
   "execution_count": null,
   "metadata": {},
   "outputs": [],
   "source": []
  }
 ],
 "metadata": {
  "kernelspec": {
   "display_name": "prostat",
   "language": "python",
   "name": "python3"
  },
  "language_info": {
   "codemirror_mode": {
    "name": "ipython",
    "version": 3
   },
   "file_extension": ".py",
   "mimetype": "text/x-python",
   "name": "python",
   "nbconvert_exporter": "python",
   "pygments_lexer": "ipython3",
   "version": "3.10.8"
  },
  "orig_nbformat": 4,
  "vscode": {
   "interpreter": {
    "hash": "e83e13eb7a5ae82a8aeb1528983d49f46d4932259c63802e14669f17a5fcf04a"
   }
  }
 },
 "nbformat": 4,
 "nbformat_minor": 2
}
